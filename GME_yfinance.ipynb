{
 "cells": [
  {
   "cell_type": "code",
   "execution_count": 2,
   "id": "cf3fb546-a2a9-4ca7-b8df-02eabad5479d",
   "metadata": {},
   "outputs": [],
   "source": [
    "import yfinance as yf"
   ]
  },
  {
   "cell_type": "code",
   "execution_count": 3,
   "id": "fa6c8c7f-a425-413b-a188-6af31c4e3f79",
   "metadata": {},
   "outputs": [],
   "source": [
    "ticker = yf.Ticker('GME')"
   ]
  },
  {
   "cell_type": "code",
   "execution_count": 4,
   "id": "6c2c60c4-c813-4b92-bfe5-f3ffadcaac7c",
   "metadata": {},
   "outputs": [],
   "source": [
    "gme_data = ticker.history(period='max')"
   ]
  },
  {
   "cell_type": "code",
   "execution_count": 5,
   "id": "d22545b5-4845-49b3-b8bf-e64df9e2d82b",
   "metadata": {},
   "outputs": [],
   "source": [
    "gme_data_reset_index = gme_data.reset_index()"
   ]
  },
  {
   "cell_type": "code",
   "execution_count": 7,
   "id": "5496e3e0-e83c-48c5-b1e9-64651a79ae78",
   "metadata": {},
   "outputs": [],
   "source": [
    "gme_data_reset_index.to_csv('gme_stock_data.csv', index=False)"
   ]
  },
  {
   "cell_type": "code",
   "execution_count": 8,
   "id": "3d3784fb-9871-43ff-9edd-6a7274b5b759",
   "metadata": {},
   "outputs": [
    {
     "name": "stdout",
     "output_type": "stream",
     "text": [
      "                       Date      Open      High       Low     Close    Volume  \\\n",
      "0 2002-02-13 00:00:00-05:00  1.620128  1.693350  1.603296  1.691666  76216000   \n",
      "1 2002-02-14 00:00:00-05:00  1.712707  1.716073  1.670626  1.683250  11021600   \n",
      "2 2002-02-15 00:00:00-05:00  1.683250  1.687458  1.658001  1.674833   8389600   \n",
      "3 2002-02-19 00:00:00-05:00  1.666418  1.666418  1.578047  1.607504   7410400   \n",
      "4 2002-02-20 00:00:00-05:00  1.615921  1.662210  1.603296  1.662210   6892800   \n",
      "\n",
      "   Dividends  Stock Splits  \n",
      "0        0.0           0.0  \n",
      "1        0.0           0.0  \n",
      "2        0.0           0.0  \n",
      "3        0.0           0.0  \n",
      "4        0.0           0.0  \n"
     ]
    }
   ],
   "source": [
    "print(gme_data_reset_index.head())"
   ]
  },
  {
   "cell_type": "code",
   "execution_count": null,
   "id": "2a33d303-697f-40c1-b3ca-7a534f28b89a",
   "metadata": {},
   "outputs": [],
   "source": []
  }
 ],
 "metadata": {
  "kernelspec": {
   "display_name": "Python 3 (ipykernel)",
   "language": "python",
   "name": "python3"
  },
  "language_info": {
   "codemirror_mode": {
    "name": "ipython",
    "version": 3
   },
   "file_extension": ".py",
   "mimetype": "text/x-python",
   "name": "python",
   "nbconvert_exporter": "python",
   "pygments_lexer": "ipython3",
   "version": "3.11.4"
  }
 },
 "nbformat": 4,
 "nbformat_minor": 5
}
